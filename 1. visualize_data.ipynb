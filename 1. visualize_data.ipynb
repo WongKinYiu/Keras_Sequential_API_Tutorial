{
 "cells": [
  {
   "cell_type": "code",
   "execution_count": 1,
   "metadata": {},
   "outputs": [
    {
     "name": "stderr",
     "output_type": "stream",
     "text": [
      "Using TensorFlow backend.\n"
     ]
    }
   ],
   "source": [
    "# import matplotlib for visualization\n",
    "import matplotlib\n",
    "import matplotlib.pyplot as plt\n",
    "# set to plot in the notebook\n",
    "%matplotlib inline \n",
    "\n",
    "# import keras (using tensorflow backend)\n",
    "import keras"
   ]
  },
  {
   "cell_type": "code",
   "execution_count": 2,
   "metadata": {},
   "outputs": [
    {
     "name": "stdout",
     "output_type": "stream",
     "text": [
      "There are totally 50000 images in training set.\n",
      "There are totally 10000 images in testing set.\n"
     ]
    }
   ],
   "source": [
    "# import cifar10 dataset\n",
    "from keras.datasets import cifar10\n",
    "\n",
    "# load cifar10\n",
    "(x_train, y_train), (x_test, y_test) = cifar10.load_data()\n",
    "\n",
    "# show some information of dataset\n",
    "print('There are totally {} images in training set.'.format(x_train.shape[0]))\n",
    "print('There are totally {} images in testing set.'.format(x_test.shape[0]))"
   ]
  },
  {
   "cell_type": "code",
   "execution_count": 8,
   "metadata": {},
   "outputs": [
    {
     "name": "stdout",
     "output_type": "stream",
     "text": [
      "The image has class: 4.\n"
     ]
    },
    {
     "data": {
      "image/png": "[encoded data removed]",
      "text/plain": [
       "<matplotlib.figure.Figure at 0x7fea9d5597b8>"
      ]
     },
     "metadata": {},
     "output_type": "display_data"
    }
   ],
   "source": [
    "# choose index of image to show\n",
    "sample_idx = 100\n",
    "\n",
    "# show label of chosen image\n",
    "print('The image has class: {}.'.format(y_test[sample_idx][0]))\n",
    "\n",
    "# show chosen image\n",
    "sample_img = x_test[sample_idx,:,:,:]\n",
    "plt.imshow(sample_img)\n",
    "plt.axis('off')\n",
    "plt.show()"
   ]
  },
  {
   "cell_type": "code",
   "execution_count": null,
   "metadata": {},
   "outputs": [],
   "source": []
  }
 ],
 "metadata": {
  "kernelspec": {
   "display_name": "Python 3",
   "language": "python",
   "name": "python3"
  },
  "language_info": {
   "codemirror_mode": {
    "name": "ipython",
    "version": 3
   },
   "file_extension": ".py",
   "mimetype": "text/x-python",
   "name": "python",
   "nbconvert_exporter": "python",
   "pygments_lexer": "ipython3",
   "version": "3.5.2"
  }
 },
 "nbformat": 4,
 "nbformat_minor": 2
}
