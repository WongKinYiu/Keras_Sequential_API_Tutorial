{
 "cells": [
  {
   "cell_type": "markdown",
   "metadata": {},
   "source": [
    "### This tutorial demostrate how to train a deep neural network (DNN) formulated as follows:\n",
    "\n",
    "## $$x^{(1)}=ReLU(W^{(1)} \\times x^{(0)})$$\n",
    "## $$x^{(2)}=ReLU(W^{(2)} \\times x^{(1)})$$\n",
    "## $$x^{(3)}=ReLU(W^{(3)} \\times x^{(2)})$$\n",
    "## $$y=softmax(W^{(4)} \\times x^{(3)})$$"
   ]
  },
  {
   "cell_type": "code",
   "execution_count": 1,
   "metadata": {},
   "outputs": [
    {
     "name": "stderr",
     "output_type": "stream",
     "text": [
      "Using TensorFlow backend.\n"
     ]
    }
   ],
   "source": [
    "# import matplotlib for visualization\n",
    "import matplotlib\n",
    "import matplotlib.pyplot as plt\n",
    "# set to plot in the notebook\n",
    "%matplotlib inline \n",
    "\n",
    "# import keras (using tensorflow backend)\n",
    "import keras"
   ]
  },
  {
   "cell_type": "code",
   "execution_count": 2,
   "metadata": {},
   "outputs": [],
   "source": [
    "import tensorflow as tf\n",
    "from keras.backend.tensorflow_backend import set_session\n",
    "config = tf.ConfigProto()\n",
    "config.gpu_options.per_process_gpu_memory_fraction = 0.1\n",
    "config.gpu_options.visible_device_list= '0'\n",
    "set_session(tf.Session(config=config))"
   ]
  },
  {
   "cell_type": "code",
   "execution_count": 3,
   "metadata": {},
   "outputs": [],
   "source": [
    "from keras.datasets import cifar10\n",
    "\n",
    "# set batch size and number of classes\n",
    "input_shape = (32,32,3)\n",
    "batch_size = 500\n",
    "num_classes = 10\n",
    "epochs = 10\n",
    "\n",
    "# load cifar10\n",
    "(x_train, y_train), (x_test, y_test) = cifar10.load_data()\n",
    "\n",
    "# convert class vectors to one-hot binary class matrices.\n",
    "y_train = keras.utils.to_categorical(y_train, num_classes)\n",
    "y_test = keras.utils.to_categorical(y_test, num_classes)\n",
    "\n",
    "# normalize data to [-1, 1]\n",
    "x_train = x_train.astype('float32')\n",
    "x_test = x_test.astype('float32')\n",
    "x_train /= 127.5\n",
    "x_test /= 127.5\n",
    "x_train -= 1.\n",
    "x_test -= 1."
   ]
  },
  {
   "cell_type": "code",
   "execution_count": 4,
   "metadata": {},
   "outputs": [
    {
     "name": "stdout",
     "output_type": "stream",
     "text": [
      "_________________________________________________________________\n",
      "Layer (type)                 Output Shape              Param #   \n",
      "=================================================================\n",
      "flatten_1 (Flatten)          (None, 3072)              0         \n",
      "_________________________________________________________________\n",
      "dense_1 (Dense)              (None, 256)               786688    \n",
      "_________________________________________________________________\n",
      "activation_1 (Activation)    (None, 256)               0         \n",
      "_________________________________________________________________\n",
      "dense_2 (Dense)              (None, 256)               65792     \n",
      "_________________________________________________________________\n",
      "activation_2 (Activation)    (None, 256)               0         \n",
      "_________________________________________________________________\n",
      "dense_3 (Dense)              (None, 256)               65792     \n",
      "_________________________________________________________________\n",
      "activation_3 (Activation)    (None, 256)               0         \n",
      "_________________________________________________________________\n",
      "dense_4 (Dense)              (None, 10)                2570      \n",
      "_________________________________________________________________\n",
      "activation_4 (Activation)    (None, 10)                0         \n",
      "=================================================================\n",
      "Total params: 920,842\n",
      "Trainable params: 920,842\n",
      "Non-trainable params: 0\n",
      "_________________________________________________________________\n"
     ]
    }
   ],
   "source": [
    "from keras.models import Sequential\n",
    "\n",
    "from keras.layers import Dense, Activation, Flatten\n",
    "\n",
    "def dnn_model(input_shape, num_classes):    \n",
    "    model = Sequential()\n",
    "    \n",
    "    # expand rgb image to a vector\n",
    "    model.add(Flatten(input_shape=input_shape))\n",
    "    \n",
    "    # fc1\n",
    "    model.add(Dense(256))\n",
    "    model.add(Activation('relu'))\n",
    "    \n",
    "    # fc2\n",
    "    model.add(Dense(256))\n",
    "    model.add(Activation('relu'))\n",
    "    \n",
    "    # fc3\n",
    "    model.add(Dense(256))\n",
    "    model.add(Activation('relu'))\n",
    "    \n",
    "    # fc4\n",
    "    model.add(Dense(num_classes))\n",
    "    model.add(Activation('softmax'))\n",
    "    \n",
    "    return model\n",
    "\n",
    "model = dnn_model(input_shape, num_classes)\n",
    "model.summary()"
   ]
  },
  {
   "cell_type": "code",
   "execution_count": 5,
   "metadata": {},
   "outputs": [
    {
     "data": {
      "image/svg+xml": [
       "<svg height=\"702pt\" viewBox=\"0.00 0.00 175.00 702.00\" width=\"175pt\" xmlns=\"http://www.w3.org/2000/svg\" xmlns:xlink=\"http://www.w3.org/1999/xlink\">\n",
       "<g class=\"graph\" id=\"graph0\" transform=\"scale(1 1) rotate(0) translate(4 698)\">\n",
       "<title>G</title>\n",
       "<polygon fill=\"white\" points=\"-4,4 -4,-698 171,-698 171,4 -4,4\" stroke=\"none\"/>\n",
       "<!-- 140028056060816 -->\n",
       "<g class=\"node\" id=\"node1\"><title>140028056060816</title>\n",
       "<polygon fill=\"none\" points=\"-1.42109e-14,-657.5 -1.42109e-14,-693.5 167,-693.5 167,-657.5 -1.42109e-14,-657.5\" stroke=\"black\"/>\n",
       "<text font-family=\"Times,serif\" font-size=\"14.00\" text-anchor=\"middle\" x=\"83.5\" y=\"-671.8\">flatten_1_input: InputLayer</text>\n",
       "</g>\n",
       "<!-- 140028056060648 -->\n",
       "<g class=\"node\" id=\"node2\"><title>140028056060648</title>\n",
       "<polygon fill=\"none\" points=\"28.5,-584.5 28.5,-620.5 138.5,-620.5 138.5,-584.5 28.5,-584.5\" stroke=\"black\"/>\n",
       "<text font-family=\"Times,serif\" font-size=\"14.00\" text-anchor=\"middle\" x=\"83.5\" y=\"-598.8\">flatten_1: Flatten</text>\n",
       "</g>\n",
       "<!-- 140028056060816&#45;&gt;140028056060648 -->\n",
       "<g class=\"edge\" id=\"edge1\"><title>140028056060816-&gt;140028056060648</title>\n",
       "<path d=\"M83.5,-657.313C83.5,-649.289 83.5,-639.547 83.5,-630.569\" fill=\"none\" stroke=\"black\"/>\n",
       "<polygon fill=\"black\" points=\"87.0001,-630.529 83.5,-620.529 80.0001,-630.529 87.0001,-630.529\" stroke=\"black\"/>\n",
       "</g>\n",
       "<!-- 140028056414752 -->\n",
       "<g class=\"node\" id=\"node3\"><title>140028056414752</title>\n",
       "<polygon fill=\"none\" points=\"32.5,-511.5 32.5,-547.5 134.5,-547.5 134.5,-511.5 32.5,-511.5\" stroke=\"black\"/>\n",
       "<text font-family=\"Times,serif\" font-size=\"14.00\" text-anchor=\"middle\" x=\"83.5\" y=\"-525.8\">dense_1: Dense</text>\n",
       "</g>\n",
       "<!-- 140028056060648&#45;&gt;140028056414752 -->\n",
       "<g class=\"edge\" id=\"edge2\"><title>140028056060648-&gt;140028056414752</title>\n",
       "<path d=\"M83.5,-584.313C83.5,-576.289 83.5,-566.547 83.5,-557.569\" fill=\"none\" stroke=\"black\"/>\n",
       "<polygon fill=\"black\" points=\"87.0001,-557.529 83.5,-547.529 80.0001,-557.529 87.0001,-557.529\" stroke=\"black\"/>\n",
       "</g>\n",
       "<!-- 140028056062832 -->\n",
       "<g class=\"node\" id=\"node4\"><title>140028056062832</title>\n",
       "<polygon fill=\"none\" points=\"9.5,-438.5 9.5,-474.5 157.5,-474.5 157.5,-438.5 9.5,-438.5\" stroke=\"black\"/>\n",
       "<text font-family=\"Times,serif\" font-size=\"14.00\" text-anchor=\"middle\" x=\"83.5\" y=\"-452.8\">activation_1: Activation</text>\n",
       "</g>\n",
       "<!-- 140028056414752&#45;&gt;140028056062832 -->\n",
       "<g class=\"edge\" id=\"edge3\"><title>140028056414752-&gt;140028056062832</title>\n",
       "<path d=\"M83.5,-511.313C83.5,-503.289 83.5,-493.547 83.5,-484.569\" fill=\"none\" stroke=\"black\"/>\n",
       "<polygon fill=\"black\" points=\"87.0001,-484.529 83.5,-474.529 80.0001,-484.529 87.0001,-484.529\" stroke=\"black\"/>\n",
       "</g>\n",
       "<!-- 140028056063840 -->\n",
       "<g class=\"node\" id=\"node5\"><title>140028056063840</title>\n",
       "<polygon fill=\"none\" points=\"32.5,-365.5 32.5,-401.5 134.5,-401.5 134.5,-365.5 32.5,-365.5\" stroke=\"black\"/>\n",
       "<text font-family=\"Times,serif\" font-size=\"14.00\" text-anchor=\"middle\" x=\"83.5\" y=\"-379.8\">dense_2: Dense</text>\n",
       "</g>\n",
       "<!-- 140028056062832&#45;&gt;140028056063840 -->\n",
       "<g class=\"edge\" id=\"edge4\"><title>140028056062832-&gt;140028056063840</title>\n",
       "<path d=\"M83.5,-438.313C83.5,-430.289 83.5,-420.547 83.5,-411.569\" fill=\"none\" stroke=\"black\"/>\n",
       "<polygon fill=\"black\" points=\"87.0001,-411.529 83.5,-401.529 80.0001,-411.529 87.0001,-411.529\" stroke=\"black\"/>\n",
       "</g>\n",
       "<!-- 140028013738920 -->\n",
       "<g class=\"node\" id=\"node6\"><title>140028013738920</title>\n",
       "<polygon fill=\"none\" points=\"9.5,-292.5 9.5,-328.5 157.5,-328.5 157.5,-292.5 9.5,-292.5\" stroke=\"black\"/>\n",
       "<text font-family=\"Times,serif\" font-size=\"14.00\" text-anchor=\"middle\" x=\"83.5\" y=\"-306.8\">activation_2: Activation</text>\n",
       "</g>\n",
       "<!-- 140028056063840&#45;&gt;140028013738920 -->\n",
       "<g class=\"edge\" id=\"edge5\"><title>140028056063840-&gt;140028013738920</title>\n",
       "<path d=\"M83.5,-365.313C83.5,-357.289 83.5,-347.547 83.5,-338.569\" fill=\"none\" stroke=\"black\"/>\n",
       "<polygon fill=\"black\" points=\"87.0001,-338.529 83.5,-328.529 80.0001,-338.529 87.0001,-338.529\" stroke=\"black\"/>\n",
       "</g>\n",
       "<!-- 140028013738528 -->\n",
       "<g class=\"node\" id=\"node7\"><title>140028013738528</title>\n",
       "<polygon fill=\"none\" points=\"32.5,-219.5 32.5,-255.5 134.5,-255.5 134.5,-219.5 32.5,-219.5\" stroke=\"black\"/>\n",
       "<text font-family=\"Times,serif\" font-size=\"14.00\" text-anchor=\"middle\" x=\"83.5\" y=\"-233.8\">dense_3: Dense</text>\n",
       "</g>\n",
       "<!-- 140028013738920&#45;&gt;140028013738528 -->\n",
       "<g class=\"edge\" id=\"edge6\"><title>140028013738920-&gt;140028013738528</title>\n",
       "<path d=\"M83.5,-292.313C83.5,-284.289 83.5,-274.547 83.5,-265.569\" fill=\"none\" stroke=\"black\"/>\n",
       "<polygon fill=\"black\" points=\"87.0001,-265.529 83.5,-255.529 80.0001,-265.529 87.0001,-265.529\" stroke=\"black\"/>\n",
       "</g>\n",
       "<!-- 140028013900352 -->\n",
       "<g class=\"node\" id=\"node8\"><title>140028013900352</title>\n",
       "<polygon fill=\"none\" points=\"9.5,-146.5 9.5,-182.5 157.5,-182.5 157.5,-146.5 9.5,-146.5\" stroke=\"black\"/>\n",
       "<text font-family=\"Times,serif\" font-size=\"14.00\" text-anchor=\"middle\" x=\"83.5\" y=\"-160.8\">activation_3: Activation</text>\n",
       "</g>\n",
       "<!-- 140028013738528&#45;&gt;140028013900352 -->\n",
       "<g class=\"edge\" id=\"edge7\"><title>140028013738528-&gt;140028013900352</title>\n",
       "<path d=\"M83.5,-219.313C83.5,-211.289 83.5,-201.547 83.5,-192.569\" fill=\"none\" stroke=\"black\"/>\n",
       "<polygon fill=\"black\" points=\"87.0001,-192.529 83.5,-182.529 80.0001,-192.529 87.0001,-192.529\" stroke=\"black\"/>\n",
       "</g>\n",
       "<!-- 140028013900184 -->\n",
       "<g class=\"node\" id=\"node9\"><title>140028013900184</title>\n",
       "<polygon fill=\"none\" points=\"32.5,-73.5 32.5,-109.5 134.5,-109.5 134.5,-73.5 32.5,-73.5\" stroke=\"black\"/>\n",
       "<text font-family=\"Times,serif\" font-size=\"14.00\" text-anchor=\"middle\" x=\"83.5\" y=\"-87.8\">dense_4: Dense</text>\n",
       "</g>\n",
       "<!-- 140028013900352&#45;&gt;140028013900184 -->\n",
       "<g class=\"edge\" id=\"edge8\"><title>140028013900352-&gt;140028013900184</title>\n",
       "<path d=\"M83.5,-146.313C83.5,-138.289 83.5,-128.547 83.5,-119.569\" fill=\"none\" stroke=\"black\"/>\n",
       "<polygon fill=\"black\" points=\"87.0001,-119.529 83.5,-109.529 80.0001,-119.529 87.0001,-119.529\" stroke=\"black\"/>\n",
       "</g>\n",
       "<!-- 140028013455624 -->\n",
       "<g class=\"node\" id=\"node10\"><title>140028013455624</title>\n",
       "<polygon fill=\"none\" points=\"9.5,-0.5 9.5,-36.5 157.5,-36.5 157.5,-0.5 9.5,-0.5\" stroke=\"black\"/>\n",
       "<text font-family=\"Times,serif\" font-size=\"14.00\" text-anchor=\"middle\" x=\"83.5\" y=\"-14.8\">activation_4: Activation</text>\n",
       "</g>\n",
       "<!-- 140028013900184&#45;&gt;140028013455624 -->\n",
       "<g class=\"edge\" id=\"edge9\"><title>140028013900184-&gt;140028013455624</title>\n",
       "<path d=\"M83.5,-73.3129C83.5,-65.2895 83.5,-55.5475 83.5,-46.5691\" fill=\"none\" stroke=\"black\"/>\n",
       "<polygon fill=\"black\" points=\"87.0001,-46.5288 83.5,-36.5288 80.0001,-46.5289 87.0001,-46.5288\" stroke=\"black\"/>\n",
       "</g>\n",
       "</g>\n",
       "</svg>"
      ],
      "text/plain": [
       "<IPython.core.display.SVG object>"
      ]
     },
     "execution_count": 5,
     "metadata": {},
     "output_type": "execute_result"
    }
   ],
   "source": [
    "# you can save model diagram by following code\n",
    "from keras.utils import plot_model\n",
    "plot_model(model, to_file='dnn_model.png')\n",
    "\n",
    "# show model\n",
    "from IPython.display import SVG\n",
    "from keras.utils.vis_utils import model_to_dot\n",
    "\n",
    "SVG(model_to_dot(model).create(prog='dot', format='svg'))"
   ]
  },
  {
   "cell_type": "code",
   "execution_count": 6,
   "metadata": {},
   "outputs": [
    {
     "name": "stdout",
     "output_type": "stream",
     "text": [
      "Epoch 1/10\n",
      "100/100 [==============================] - 1s 10ms/step - loss: 2.1852 - categorical_accuracy: 0.2144 - val_loss: 2.0729 - val_categorical_accuracy: 0.2706\n",
      "Epoch 2/10\n",
      "100/100 [==============================] - 1s 6ms/step - loss: 2.0050 - categorical_accuracy: 0.2975 - val_loss: 1.9463 - val_categorical_accuracy: 0.3218\n",
      "Epoch 3/10\n",
      "100/100 [==============================] - 1s 7ms/step - loss: 1.9014 - categorical_accuracy: 0.3348 - val_loss: 1.8633 - val_categorical_accuracy: 0.3453\n",
      "Epoch 4/10\n",
      "100/100 [==============================] - 1s 6ms/step - loss: 1.8285 - categorical_accuracy: 0.3595 - val_loss: 1.8025 - val_categorical_accuracy: 0.3674\n",
      "Epoch 5/10\n",
      "100/100 [==============================] - 1s 7ms/step - loss: 1.7736 - categorical_accuracy: 0.3809 - val_loss: 1.7570 - val_categorical_accuracy: 0.3829\n",
      "Epoch 6/10\n",
      "100/100 [==============================] - 1s 7ms/step - loss: 1.7310 - categorical_accuracy: 0.3958 - val_loss: 1.7212 - val_categorical_accuracy: 0.3950\n",
      "Epoch 7/10\n",
      "100/100 [==============================] - 1s 7ms/step - loss: 1.6961 - categorical_accuracy: 0.4073 - val_loss: 1.6911 - val_categorical_accuracy: 0.4071\n",
      "Epoch 8/10\n",
      "100/100 [==============================] - 1s 6ms/step - loss: 1.6661 - categorical_accuracy: 0.4197 - val_loss: 1.6646 - val_categorical_accuracy: 0.4181\n",
      "Epoch 9/10\n",
      "100/100 [==============================] - 1s 7ms/step - loss: 1.6401 - categorical_accuracy: 0.4290 - val_loss: 1.6433 - val_categorical_accuracy: 0.4233\n",
      "Epoch 10/10\n",
      "100/100 [==============================] - 1s 7ms/step - loss: 1.6174 - categorical_accuracy: 0.4382 - val_loss: 1.6232 - val_categorical_accuracy: 0.4308\n"
     ]
    }
   ],
   "source": [
    "# compile model\n",
    "optimizer = keras.optimizers.sgd()\n",
    "loss = keras.losses.categorical_crossentropy\n",
    "metric = keras.metrics.categorical_accuracy\n",
    "model.compile(loss=loss,optimizer=optimizer,metrics=[metric])\n",
    "\n",
    "# import image data generator\n",
    "from keras.preprocessing.image import ImageDataGenerator\n",
    "datagen = ImageDataGenerator()\n",
    "\n",
    "# Compute quantities required for feature-wise normalization\n",
    "datagen.fit(x_train)\n",
    "\n",
    "# Fit the model on the batches generated by datagen.flow().\n",
    "history = model.fit_generator(\n",
    "    datagen.flow(x_train, y_train, batch_size=batch_size),\n",
    "    steps_per_epoch=x_train.shape[0] // batch_size,\n",
    "    epochs=epochs,\n",
    "    validation_data=(x_test, y_test))"
   ]
  },
  {
   "cell_type": "code",
   "execution_count": 7,
   "metadata": {},
   "outputs": [
    {
     "name": "stdout",
     "output_type": "stream",
     "text": [
      "Train accuracy:44.33%.\n"
     ]
    }
   ],
   "source": [
    "[train_loss, train_acc] = history.model.evaluate(x=x_train, y=y_train, batch_size=batch_size, verbose=0)\n",
    "print(\"Train accuracy:{0:.2f}%.\".format(train_acc*100))"
   ]
  },
  {
   "cell_type": "code",
   "execution_count": 8,
   "metadata": {},
   "outputs": [
    {
     "name": "stdout",
     "output_type": "stream",
     "text": [
      "Test accuracy:43.08%.\n"
     ]
    }
   ],
   "source": [
    "[test_loss, test_acc] = history.model.evaluate(x=x_test, y=y_test, batch_size=batch_size, verbose=0)\n",
    "print(\"Test accuracy:{0:.2f}%.\".format(test_acc*100))"
   ]
  },
  {
   "cell_type": "code",
   "execution_count": null,
   "metadata": {},
   "outputs": [],
   "source": []
  }
 ],
 "metadata": {
  "kernelspec": {
   "display_name": "Python 3",
   "language": "python",
   "name": "python3"
  },
  "language_info": {
   "codemirror_mode": {
    "name": "ipython",
    "version": 3
   },
   "file_extension": ".py",
   "mimetype": "text/x-python",
   "name": "python",
   "nbconvert_exporter": "python",
   "pygments_lexer": "ipython3",
   "version": "3.5.2"
  }
 },
 "nbformat": 4,
 "nbformat_minor": 2
}
